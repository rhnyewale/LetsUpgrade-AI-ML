{
 "cells": [
  {
   "cell_type": "markdown",
   "metadata": {},
   "source": [
    "# Assignment Day 3 | 8th July 2020"
   ]
  },
  {
   "cell_type": "markdown",
   "metadata": {},
   "source": [
    "#### Question 1 :\n",
    "Write a program to subtract two complex numbers in Python."
   ]
  },
  {
   "cell_type": "code",
   "execution_count": 33,
   "metadata": {},
   "outputs": [
    {
     "name": "stdout",
     "output_type": "stream",
     "text": [
      "Subtracting 2 complex number =  (4+1j)\n"
     ]
    }
   ],
   "source": [
    "a = 7+4j\n",
    "b = 3+3j\n",
    "\n",
    "c = a-b\n",
    "\n",
    "print('Subtracting 2 complex numbers = ',c)"
   ]
  },
  {
   "cell_type": "markdown",
   "metadata": {},
   "source": [
    "#### Question 2 :\n",
    "Write a program to find the fourth root of a number."
   ]
  },
  {
   "cell_type": "code",
   "execution_count": 35,
   "metadata": {},
   "outputs": [
    {
     "name": "stdout",
     "output_type": "stream",
     "text": [
      "a = 4\n",
      "b = a**4 = 256\n",
      "4th root of 256 = 4.0\n"
     ]
    }
   ],
   "source": [
    "a = 4\n",
    "b = a**4\n",
    "c = b**(1/4)\n",
    "\n",
    "print('a =',a)\n",
    "print('b = a**4 =',b)\n",
    "print('4th root of',b,'=',c)"
   ]
  },
  {
   "cell_type": "markdown",
   "metadata": {},
   "source": [
    "#### Question 3:\n",
    "Write a program to swap two numbers in Python with the help of a temporary variable."
   ]
  },
  {
   "cell_type": "code",
   "execution_count": 36,
   "metadata": {},
   "outputs": [
    {
     "name": "stdout",
     "output_type": "stream",
     "text": [
      "a = 13 b = 31\n",
      "Swaping two numbers using temporary variable\n",
      "a = 31 b = 13\n"
     ]
    }
   ],
   "source": [
    "a = 13\n",
    "b = 31\n",
    "\n",
    "print('a =',a,'b =',b)\n",
    "\n",
    "temp = a #Storing value of a in temp\n",
    "a = b    #assigning value of b to a\n",
    "b = temp #assigning value of temp(a) to b\n",
    "print('Swaping two numbers using temporary variable')\n",
    "print('a =',a,'b =',b)"
   ]
  },
  {
   "cell_type": "markdown",
   "metadata": {},
   "source": [
    "#### Question 4:\n",
    "Write a program to swap two numbers in Python without using a temporary variable."
   ]
  },
  {
   "cell_type": "code",
   "execution_count": 37,
   "metadata": {},
   "outputs": [
    {
     "name": "stdout",
     "output_type": "stream",
     "text": [
      "Before Swapping a = 13 ,b = 31\n",
      "After Swapping a = 31.0 ,b = 13.0\n"
     ]
    }
   ],
   "source": [
    "a = 13\n",
    "b = 31\n",
    "\n",
    "print('Before Swapping a =',a,',b =',b)\n",
    "\n",
    "a = a*b\n",
    "b = a/b #  a*b/b = a\n",
    "a = a/b #  a*b/a = b\n",
    "\n",
    "print('After Swapping a =',a,',b =',b)"
   ]
  },
  {
   "cell_type": "markdown",
   "metadata": {},
   "source": [
    "#### Question 5:\n",
    "Write a program to convert fahrenheit to kelvin and celsius both."
   ]
  },
  {
   "cell_type": "code",
   "execution_count": 40,
   "metadata": {},
   "outputs": [
    {
     "name": "stdout",
     "output_type": "stream",
     "text": [
      "Fahrenheit = 77\n",
      "Celsius = 25.0 Kelvin = 298.0\n"
     ]
    }
   ],
   "source": [
    "F = 77\n",
    "\n",
    "def convert(f):            #Creating a function to convert Fahrenheit -> Celsius & Kelvin\n",
    "    c = (f-32)/1.8         #Formula to convert Fahrenheit -> Celsius\n",
    "    k = 273 + c            #Formula to convert Celsius -> Kelvin\n",
    "    \n",
    "    return c,k\n",
    "\n",
    "c,k = convert(F)\n",
    "\n",
    "print('Fahrenheit =',F)\n",
    "print('Celsius =',c,'Kelvin =',k)"
   ]
  },
  {
   "cell_type": "markdown",
   "metadata": {},
   "source": [
    "#### Question 6:\n",
    "Write a program to demonstrate all the available data types in Python. Hint: Use type() function."
   ]
  },
  {
   "cell_type": "code",
   "execution_count": 39,
   "metadata": {},
   "outputs": [
    {
     "name": "stdout",
     "output_type": "stream",
     "text": [
      "Type of 11 = <class 'int'>\n",
      "Type of 1.3 = <class 'float'>\n",
      "Type of LetsUpgrade = <class 'str'>\n",
      "Type of {'x': 1, 'y': 2} = <class 'dict'>\n",
      "Type of [1, 2, 3] = <class 'list'>\n",
      "Type of (2, 3, 4) = <class 'tuple'>\n",
      "Type of (4+5j) = <class 'complex'>\n"
     ]
    }
   ],
   "source": [
    "a = 11\n",
    "b = 1.3\n",
    "c = 'LetsUpgrade'\n",
    "d = {'x':1,'y':2}\n",
    "e = [1,2,3]\n",
    "f = (2,3,4)\n",
    "g = 4+5j\n",
    "\n",
    "print('Type of',a,'=',type(a))\n",
    "print('Type of',b,'=',type(b))\n",
    "print('Type of',c,'=',type(c))\n",
    "print('Type of',d,'=',type(d))\n",
    "print('Type of',e,'=',type(e))\n",
    "print('Type of',f,'=',type(f))\n",
    "print('Type of',g,'=',type(g))"
   ]
  },
  {
   "cell_type": "markdown",
   "metadata": {},
   "source": [
    "#### Question 7:\n",
    "Create a Markdown cell in jupyter and list the steps discussed in the session by Dr. Darshan\n",
    "Ingle sir to create Github profile and upload Githubs Assignment link."
   ]
  },
  {
   "cell_type": "markdown",
   "metadata": {},
   "source": [
    "#### Step 1\n",
    "SignUp and Login into your GitHub account\n",
    "\n",
    "#### Step 2\n",
    "Create a New Repository\n",
    "\n",
    "#### Step 3\n",
    "Give Repository Name<br>\n",
    "Give Description<br>\n",
    "Keep it Public<br>\n",
    "\n",
    "\n",
    "<img src = '1.jpg'>"
   ]
  },
  {
   "cell_type": "markdown",
   "metadata": {},
   "source": [
    "### Step 4\n",
    "Click on upload existing file\n",
    "<img src ='2.jpg'>"
   ]
  },
  {
   "cell_type": "markdown",
   "metadata": {},
   "source": [
    "## Step 5\n",
    "Drag and Drop the Day3 Folder<br>\n",
    "<img src = '3.jpg'>"
   ]
  },
  {
   "cell_type": "markdown",
   "metadata": {},
   "source": [
    "Click on Commit Changes"
   ]
  },
  {
   "cell_type": "markdown",
   "metadata": {},
   "source": [
    "## Step 6\n",
    "\n",
    "Copy the github repository link and submit in the google form\n",
    "\n",
    "<img src='4.jpg'>"
   ]
  },
  {
   "cell_type": "markdown",
   "metadata": {},
   "source": [
    "https://github.com/rhnyewale/LetsUpgrade-AI-ML"
   ]
  },
  {
   "cell_type": "code",
   "execution_count": null,
   "metadata": {},
   "outputs": [],
   "source": []
  }
 ],
 "metadata": {
  "kernelspec": {
   "display_name": "Python 3",
   "language": "python",
   "name": "python3"
  },
  "language_info": {
   "codemirror_mode": {
    "name": "ipython",
    "version": 3
   },
   "file_extension": ".py",
   "mimetype": "text/x-python",
   "name": "python",
   "nbconvert_exporter": "python",
   "pygments_lexer": "ipython3",
   "version": "3.7.6"
  }
 },
 "nbformat": 4,
 "nbformat_minor": 4
}
