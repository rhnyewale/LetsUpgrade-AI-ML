{
 "cells": [
  {
   "cell_type": "markdown",
   "metadata": {},
   "source": [
    "# Assignment Day 5 | 10th July 2020"
   ]
  },
  {
   "cell_type": "markdown",
   "metadata": {},
   "source": [
    "## Question 1 :\n",
    "Write a Python program to find the first 20 non-even prime natural numbers."
   ]
  },
  {
   "cell_type": "code",
   "execution_count": 1,
   "metadata": {},
   "outputs": [
    {
     "name": "stdout",
     "output_type": "stream",
     "text": [
      "[3, 5, 7, 11, 13, 17, 19, 23, 29, 31, 37, 41, 43, 47, 53, 59, 61, 67, 71, 73]\n"
     ]
    }
   ],
   "source": [
    "prime = []                  #list to store prime numbers\n",
    "cnt = 0                     #counter \n",
    "for i in range(2,200):\n",
    "    if (i%2)==1:         \n",
    "        for x in range(2,i): #to check if its divisble by any preceding number \n",
    "            if (i%x)==0:\n",
    "                break\n",
    "        else:\n",
    "            prime.append(i)\n",
    "            cnt += 1\n",
    "    if cnt==20:\n",
    "        break\n",
    "        \n",
    "\n",
    "print(prime)"
   ]
  },
  {
   "cell_type": "code",
   "execution_count": 2,
   "metadata": {},
   "outputs": [
    {
     "name": "stdout",
     "output_type": "stream",
     "text": [
      "Enter the range of the number:20\n",
      "2\n",
      "3\n",
      "5\n",
      "7\n",
      "11\n",
      "13\n",
      "17\n",
      "19\n"
     ]
    }
   ],
   "source": [
    "i = 1\n",
    "\n",
    "x = int(input(\"Enter the range of the number:\"))\n",
    "\n",
    "for k in range(1,(x+1),1):\n",
    "    c = 0\n",
    "    for j in range (1,(i+1),1):\n",
    "        if (i%j)==0:\n",
    "            c = c+1\n",
    "    if(c==2):               #This part is only for 2-even prime number\n",
    "        print(i)\n",
    "    else:\n",
    "        k = k-1\n",
    "        \n",
    "    i=i+1\n",
    "        "
   ]
  },
  {
   "cell_type": "markdown",
   "metadata": {},
   "source": [
    "## Question 2 :\n",
    "Write a Python program to implement 15 functions of string."
   ]
  },
  {
   "cell_type": "markdown",
   "metadata": {},
   "source": [
    "Strings are immutable in Python. This means that once a string has been defined, it can’t be changed.\n",
    "\n",
    "There are no mutating methods for strings. This is unlike data types like lists, which can be modified once they are created."
   ]
  },
  {
   "cell_type": "markdown",
   "metadata": {},
   "source": [
    "Indexing & Slicing Strings"
   ]
  },
  {
   "cell_type": "code",
   "execution_count": 3,
   "metadata": {},
   "outputs": [
    {
     "name": "stdout",
     "output_type": "stream",
     "text": [
      "han Yewale\n",
      "Rohan Yew\n",
      "an Y\n",
      "ewal\n",
      "elaweY nahoR\n"
     ]
    }
   ],
   "source": [
    "s = 'Rohan Yewale'\n",
    "print(s[2:])  #from index 2 till the end\n",
    "print(s[:-3]) #from starting index 0 till 3rd last index\n",
    "print(s[3:7])  #foward indexing\n",
    "print(s[-5:-1]) #backward indexing\n",
    "print(s[::-1]) #printing backwards; useful to check palindrome"
   ]
  },
  {
   "cell_type": "markdown",
   "metadata": {},
   "source": [
    "String Methods"
   ]
  },
  {
   "cell_type": "code",
   "execution_count": 4,
   "metadata": {},
   "outputs": [
    {
     "name": "stdout",
     "output_type": "stream",
     "text": [
      ".swapcase(): rOHAN s\n",
      ".lower(): rohan s\n",
      ".upper(): ROHAN S\n",
      ".title(): Harry Potter\n",
      "\n",
      "\n",
      ".isalpha(): False\n",
      ".isdigit(): True\n",
      "\n",
      "\n",
      ".replace(): Sohan S\n",
      "len(str): 7\n",
      ".count(): 2\n",
      "\n",
      "\n",
      ".find() 1\n",
      "5\n",
      "index: 1\n"
     ]
    }
   ],
   "source": [
    "s1 = 'Rohan S'\n",
    "s2 = 'Yewale'\n",
    "s3 = 'harry potter'\n",
    "a = \"\\u0030\" #unicode for 0\n",
    "b = \"\\u00B2\" #unicode for ²\n",
    "print('.swapcase():',s1.swapcase())  #swaps the lower case to upper case & vice versa\n",
    "print('.lower():',s1.lower())        #converts all characters to lower case\n",
    "print('.upper():',s1.upper())        #converts all character to upper case\n",
    "print('.title():',s3.title())        #the first character of each word is capitalized\n",
    "                                     # while the rest of the characters are lowercase\n",
    "print('\\n')\n",
    "print('.isalpha():',s1.isalpha())    #checks if all the characters a alphabets:returns False because of blank space\n",
    "print('.isdigit():',a.isdigit())     #Returns True if all characters in the string are digits\n",
    "\n",
    "print('\\n')\n",
    "print('.replace():',s1.replace('R','S')) #replaces 'R' with 'S' #case sensitive-won't replace 'r' with 'S'\n",
    "print('len(str):',len(s1))               #returns the length of the string\n",
    "print('.count():',s2.count('e'))         #.count() method returns the number of times a specified value appears in the string\n",
    "\n",
    "print('\\n')\n",
    "print('.find()',s2.find('e'))            #returns the index of the first match\n",
    "print(s2.find('e',2))                    #returns the index of 'e' from character 2 till it finds the match\n",
    "print('index:',s1.index('o'))            #.index() & .find() are almost same functions\n"
   ]
  },
  {
   "cell_type": "markdown",
   "metadata": {},
   "source": [
    "Escaping Characters:\n",
    "Backslashes (\\) are used to escape characters in a Python string.\n",
    "To print a string with quotation marks, the given code snippet can be used."
   ]
  },
  {
   "cell_type": "code",
   "execution_count": 5,
   "metadata": {
    "scrolled": true
   },
   "outputs": [
    {
     "name": "stdout",
     "output_type": "stream",
     "text": [
      "Ronaldo:\"Suiiiii\"\n"
     ]
    }
   ],
   "source": [
    "s3 = \"Ronaldo:\\\"Suiiiii\\\"\"\n",
    "print(s3)"
   ]
  },
  {
   "cell_type": "markdown",
   "metadata": {},
   "source": [
    "Python String.format()<br/>\n",
    "The Python string method .format() replaces empty brace ({}) placeholders in the string with its arguments."
   ]
  },
  {
   "cell_type": "code",
   "execution_count": 6,
   "metadata": {},
   "outputs": [
    {
     "data": {
      "text/plain": [
       "\"My name is Khan and i'm not a Terrorist\""
      ]
     },
     "execution_count": 6,
     "metadata": {},
     "output_type": "execute_result"
    }
   ],
   "source": [
    "str1 = 'My name is {} and i\\'m not a {}'\n",
    "str1.format('Khan','Terrorist')"
   ]
  },
  {
   "cell_type": "markdown",
   "metadata": {},
   "source": [
    "The string method .strip() can be used to remove characters from the beginning and end of a string.<br/>\n",
    "A string argument can be passed to the method, specifying the set of characters to be stripped. With no arguments to the method, whitespace is removed."
   ]
  },
  {
   "cell_type": "code",
   "execution_count": 20,
   "metadata": {},
   "outputs": [
    {
     "name": "stdout",
     "output_type": "stream",
     "text": [
      "  Rohan S Y     \n",
      "Rohan S Y\n",
      "Rohan S Yewale\n"
     ]
    }
   ],
   "source": [
    "str2 = '  Rohan S Y     '\n",
    "str3 = '  -  --***Rohan S Yewale##@'\n",
    "print(str2)\n",
    "print(str2.strip())\n",
    "print(str3.strip(' -#*@'))"
   ]
  },
  {
   "cell_type": "markdown",
   "metadata": {},
   "source": [
    "The string method .split() splits a string into a list of items:<br/>"
   ]
  },
  {
   "cell_type": "code",
   "execution_count": 8,
   "metadata": {},
   "outputs": [
    {
     "name": "stdout",
     "output_type": "stream",
     "text": [
      "['Rohan', 'Yewale']\n",
      "['Roh', 'n Yew', 'le']\n"
     ]
    }
   ],
   "source": [
    "str4 = 'Rohan Yewale'\n",
    "print(str4.split())    #If no argument is passed, the default behavior is to split on whitespace.\n",
    "print(str4.split('a')) #If an argument is passed to the method, that value is used as the delimiter \n",
    "                        #on which to split the string"
   ]
  },
  {
   "cell_type": "markdown",
   "metadata": {},
   "source": [
    "The join() method takes all items in an iterable and joins them into one string.\n",
    "\n",
    "A string must be specified as the separator."
   ]
  },
  {
   "cell_type": "code",
   "execution_count": 9,
   "metadata": {},
   "outputs": [
    {
     "data": {
      "text/plain": [
       "'Rohan%Subhash%Yewale'"
      ]
     },
     "execution_count": 9,
     "metadata": {},
     "output_type": "execute_result"
    }
   ],
   "source": [
    "tup = ('Rohan','Subhash','Yewale')\n",
    "x = '%'.join(tup)\n",
    "x"
   ]
  },
  {
   "cell_type": "code",
   "execution_count": 10,
   "metadata": {},
   "outputs": [
    {
     "data": {
      "text/plain": [
       "'a#b'"
      ]
     },
     "execution_count": 10,
     "metadata": {},
     "output_type": "execute_result"
    }
   ],
   "source": [
    "dict1 = {'a':'Rohan','b':'Yewale'}\n",
    "y = '#'.join(dict1)\n",
    "y\n",
    "#When using a dictionary as an iterable, the returned values are the keys, not the values"
   ]
  },
  {
   "cell_type": "code",
   "execution_count": 11,
   "metadata": {},
   "outputs": [
    {
     "name": "stdout",
     "output_type": "stream",
     "text": [
      "['R', 'a', 'h', 'n', 'o']\n",
      "['o', 'n', 'h', 'a', 'R']\n"
     ]
    },
    {
     "data": {
      "text/plain": [
       "'Rohan'"
      ]
     },
     "execution_count": 11,
     "metadata": {},
     "output_type": "execute_result"
    }
   ],
   "source": [
    "x = 'Rohan'\n",
    "print(sorted(x)) #to sort with each character | reverse=True for descending order\n",
    "print(sorted(x,reverse=True))\n",
    "x"
   ]
  },
  {
   "cell_type": "markdown",
   "metadata": {},
   "source": [
    "## Question 3:\n",
    "Write a Python program to check if the given string is a Palindrome or Anagram or None of them.\n",
    "Display the message accordingly to the user."
   ]
  },
  {
   "cell_type": "code",
   "execution_count": 14,
   "metadata": {},
   "outputs": [
    {
     "name": "stdout",
     "output_type": "stream",
     "text": [
      "Enter first String:TenEt\n",
      "Enter second String:Netet\n",
      "TenEt is Palindrome\n",
      "Netet not a Palindrome\n",
      "Strings are Anagram\n"
     ]
    }
   ],
   "source": [
    "string1 = input(\"Enter first String:\")\n",
    "string2 = input(\"Enter second String:\")\n",
    "\n",
    "def Palindrome(x):\n",
    "    lc =x.lower()\n",
    "    rev = lc[::-1]\n",
    "    if lc==rev:\n",
    "        return print(x,'is Palindrome')\n",
    "    else:\n",
    "        return print(x,'not a Palindrome')\n",
    "\n",
    "def Palagram(x,y):\n",
    "    xl = x.lower()\n",
    "    yl = y.lower()\n",
    "    Palindrome(x)\n",
    "    Palindrome(y)\n",
    "    if (sorted(xl)==sorted(yl)):\n",
    "        print('Strings are Anagram')\n",
    "    else:\n",
    "        print('Strings are not Anagram')\n",
    "\n",
    "Palagram(string1,string2)\n",
    "\n"
   ]
  },
  {
   "cell_type": "markdown",
   "metadata": {},
   "source": [
    "## Question 4:\n",
    "Write a Python's user defined function that removes all the additional characters from the string\n",
    "and converts it finally to lower case using built-in lower(). eg: If the string is \"Dr. Darshan Ingle\n",
    "@AI-ML Trainer\", then the output be \"drdarshaningleaimltrainer\""
   ]
  },
  {
   "cell_type": "code",
   "execution_count": 25,
   "metadata": {},
   "outputs": [
    {
     "name": "stdout",
     "output_type": "stream",
     "text": [
      "Enter String: \"Dr. Darshan Ingle @AI-ML Trainer\"\n",
      "[' ', '.', '-', '@', '#', '$', '%', '&', '*']\n",
      "drdarshaningleaimltrainer\n"
     ]
    }
   ],
   "source": [
    "x = input('Enter String:')\n",
    "ex = ' .-@#$%&*\"'   #string of all unwanted characters\n",
    "exclude = list(ex)  #convertinf string to a list\n",
    "print(l)\n",
    "\n",
    "def clean(s):\n",
    "    for x in exclude:\n",
    "        s= s.replace(x,\"\") #replacing all the unwanted characters\n",
    "    s = s.lower()          \n",
    "    return s\n",
    "\n",
    "a = clean(x)\n",
    "print(a)"
   ]
  },
  {
   "cell_type": "code",
   "execution_count": null,
   "metadata": {},
   "outputs": [],
   "source": []
  }
 ],
 "metadata": {
  "kernelspec": {
   "display_name": "Python 3",
   "language": "python",
   "name": "python3"
  },
  "language_info": {
   "codemirror_mode": {
    "name": "ipython",
    "version": 3
   },
   "file_extension": ".py",
   "mimetype": "text/x-python",
   "name": "python",
   "nbconvert_exporter": "python",
   "pygments_lexer": "ipython3",
   "version": "3.7.6"
  },
  "toc": {
   "base_numbering": 1,
   "nav_menu": {},
   "number_sections": true,
   "sideBar": true,
   "skip_h1_title": false,
   "title_cell": "Table of Contents",
   "title_sidebar": "Contents",
   "toc_cell": false,
   "toc_position": {},
   "toc_section_display": true,
   "toc_window_display": false
  }
 },
 "nbformat": 4,
 "nbformat_minor": 4
}
