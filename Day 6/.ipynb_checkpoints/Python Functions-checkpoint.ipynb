{
 "cells": [
  {
   "cell_type": "markdown",
   "metadata": {},
   "source": [
    "# Assignment Day 6 | Python Functions"
   ]
  },
  {
   "cell_type": "markdown",
   "metadata": {},
   "source": [
    "## Question 1:\n",
    "Assuming that we have some email addresses in the \"username@companyname.com\" format, please write program<br/>\n",
    "to print the company name of a given email address. Both user names and company names are composed of letters<br/>\n",
    "only.<br/>\n",
    "Input Format:<br/>\n",
    "The first line of the input contains an email address.<br/>\n",
    "Output Format:<br/>\n",
    "Print the company name in single line.<br/>\n",
    "Example;<br/>\n",
    "Input: john@google.com<br/>\n",
    "Output: google\n"
   ]
  },
  {
   "cell_type": "code",
   "execution_count": 5,
   "metadata": {},
   "outputs": [
    {
     "name": "stdout",
     "output_type": "stream",
     "text": [
      "['yewale.r', 'accenture.com']\n",
      "accenture.com\n",
      "accenture\n"
     ]
    }
   ],
   "source": [
    "s = 'yewale.r@accenture.com'\n",
    "\n",
    "def company(x):\n",
    "    x = x.split('@') #['yewale.r', 'accenture.com']\n",
    "    print(x)\n",
    "    x = x[1]        \n",
    "    print(x)\n",
    "    x = x[:-4]\n",
    "    return x\n",
    "\n",
    "print(company(s))"
   ]
  },
  {
   "cell_type": "markdown",
   "metadata": {},
   "source": [
    "## Question 2:\n",
    "Write a program that accepts a comma-separated sequence of words as input and prints the words in a comma<br/>\n",
    "separated sequence after sorting them alphabetically.<br/>\n",
    "Input Format: The first line of input contains words separated by the comma.<br/>\n",
    "Output Format: Print the sorted words separated by the comma.<br/>\n",
    "Example:<br/>\n",
    "Input: without,hello,bag,world<br/>\n",
    "Output: bag,hello,without,world"
   ]
  },
  {
   "cell_type": "code",
   "execution_count": 11,
   "metadata": {},
   "outputs": [
    {
     "name": "stdout",
     "output_type": "stream",
     "text": [
      "bag,hello,without,world\n"
     ]
    }
   ],
   "source": [
    "l = 'without,hello,bag,world'\n",
    "s = l.split(',')\n",
    "s = sorted(s)\n",
    "s = ','.join(s)\n",
    "print(s)"
   ]
  },
  {
   "cell_type": "markdown",
   "metadata": {},
   "source": [
    "## Question 3: Sets\n",
    "Create your own Jupyter Notebook for Sets.\n",
    "Reference link: https://www.w3schools.com/python/python_sets.asp"
   ]
  },
  {
   "cell_type": "markdown",
   "metadata": {},
   "source": [
    "A set is a collection which is unordered and unindexed. In Python sets are written with curly brackets."
   ]
  },
  {
   "cell_type": "code",
   "execution_count": 14,
   "metadata": {},
   "outputs": [
    {
     "name": "stdout",
     "output_type": "stream",
     "text": [
      "{'apple', 'banana', 'cherry'}\n"
     ]
    }
   ],
   "source": [
    "set1 = {\"apple\", \"banana\", \"cherry\"}\n",
    "print(set1)"
   ]
  },
  {
   "cell_type": "markdown",
   "metadata": {},
   "source": [
    "You cannot access items in a set by referring to an index, since sets are unordered the items has no index.\n",
    "\n",
    "But you can loop through the set items using a for loop, or ask if a specified value is present in a set, by using the in keyword"
   ]
  },
  {
   "cell_type": "code",
   "execution_count": 15,
   "metadata": {},
   "outputs": [
    {
     "name": "stdout",
     "output_type": "stream",
     "text": [
      "apple\n",
      "banana\n",
      "cherry\n"
     ]
    }
   ],
   "source": [
    "for x in set1:\n",
    "    print(x)"
   ]
  },
  {
   "cell_type": "markdown",
   "metadata": {},
   "source": [
    "Check if \"banana\" is present in the set:"
   ]
  },
  {
   "cell_type": "code",
   "execution_count": 18,
   "metadata": {},
   "outputs": [
    {
     "name": "stdout",
     "output_type": "stream",
     "text": [
      "True\n"
     ]
    }
   ],
   "source": [
    "print(\"banana\" in set1)"
   ]
  },
  {
   "cell_type": "code",
   "execution_count": 20,
   "metadata": {
    "scrolled": true
   },
   "outputs": [
    {
     "name": "stdout",
     "output_type": "stream",
     "text": [
      "{'apple', 'orange', 'cherry', 'banana', 'grapes'}\n",
      "{'apple', 'cherry', 'banana', 'grapes'}\n",
      "{'apple', 'orange', 'cherry', 'banana', 'grapes', 'mango'}\n",
      "{'apple', 'orange', 'cherry', 'banana', 'grapes'}\n",
      "5\n"
     ]
    }
   ],
   "source": [
    "set1.add(\"orange\")\n",
    "print(set1)\n",
    "set1.remove(\"orange\") #If the item to remove does not exist, remove() will raise an error\n",
    "print(set1)\n",
    "set1.update([\"orange\", \"mango\", \"grapes\"])\n",
    "print(set1)\n",
    "set1.discard(\"mango\") #If the item to remove does not exist, discard() will NOT raise an error\n",
    "print(set1)\n",
    "print(len(set1))"
   ]
  },
  {
   "cell_type": "markdown",
   "metadata": {},
   "source": [
    "You can also use the <b>pop()</b>, method to remove an item, but this method will remove the last item. Remember that sets are unordered, so you will not know what item that gets removed.\n",
    "\n",
    "The return value of the pop() method is the removed item."
   ]
  },
  {
   "cell_type": "code",
   "execution_count": 22,
   "metadata": {},
   "outputs": [
    {
     "name": "stdout",
     "output_type": "stream",
     "text": [
      "orange\n",
      "{'cherry', 'banana', 'grapes'}\n"
     ]
    }
   ],
   "source": [
    "x = set1.pop() \n",
    "print(x)\n",
    "print(set1)"
   ]
  },
  {
   "cell_type": "markdown",
   "metadata": {},
   "source": [
    " Sets are unordered, so when using the pop() method, you will not know which item that gets removed."
   ]
  },
  {
   "cell_type": "code",
   "execution_count": 23,
   "metadata": {
    "scrolled": false
   },
   "outputs": [
    {
     "ename": "NameError",
     "evalue": "name 'set1' is not defined",
     "output_type": "error",
     "traceback": [
      "\u001b[1;31m---------------------------------------------------------------------------\u001b[0m",
      "\u001b[1;31mNameError\u001b[0m                                 Traceback (most recent call last)",
      "\u001b[1;32m<ipython-input-23-4347485aa4d7>\u001b[0m in \u001b[0;36m<module>\u001b[1;34m\u001b[0m\n\u001b[0;32m      1\u001b[0m \u001b[1;32mdel\u001b[0m \u001b[0mset1\u001b[0m   \u001b[1;31m#The del keyword will delete the set completely\u001b[0m\u001b[1;33m\u001b[0m\u001b[1;33m\u001b[0m\u001b[0m\n\u001b[1;32m----> 2\u001b[1;33m \u001b[0mprint\u001b[0m\u001b[1;33m(\u001b[0m\u001b[0mset1\u001b[0m\u001b[1;33m)\u001b[0m\u001b[1;33m\u001b[0m\u001b[1;33m\u001b[0m\u001b[0m\n\u001b[0m",
      "\u001b[1;31mNameError\u001b[0m: name 'set1' is not defined"
     ]
    }
   ],
   "source": [
    "del set1   #The del keyword will delete the set completely\n",
    "print(set1)"
   ]
  },
  {
   "cell_type": "markdown",
   "metadata": {},
   "source": [
    "<b>Join Two Sets</b><br/>\n",
    "There are several ways to join two or more sets in Python.\n",
    "\n",
    "You can use the <b>union()</b> method that returns a new set containing all items from both sets, or the <b>update()</b> method that inserts all the items from one set into another:"
   ]
  },
  {
   "cell_type": "code",
   "execution_count": 24,
   "metadata": {},
   "outputs": [
    {
     "name": "stdout",
     "output_type": "stream",
     "text": [
      "{1, 2, 3, 'b', 'c', 'a'}\n"
     ]
    }
   ],
   "source": [
    "set1 = {\"a\", \"b\" , \"c\"}\n",
    "set2 = {1, 2, 3}\n",
    "\n",
    "set3 = set1.union(set2)\n",
    "print(set3)"
   ]
  },
  {
   "cell_type": "markdown",
   "metadata": {},
   "source": [
    "The update() method inserts the items in set2 into set1:"
   ]
  },
  {
   "cell_type": "code",
   "execution_count": 25,
   "metadata": {},
   "outputs": [
    {
     "name": "stdout",
     "output_type": "stream",
     "text": [
      "{1, 2, 3, 'b', 'c', 'a'}\n"
     ]
    }
   ],
   "source": [
    "set1 = {\"a\", \"b\" , \"c\"}\n",
    "set2 = {1, 2, 3}\n",
    "\n",
    "set1.update(set2)\n",
    "print(set1)"
   ]
  },
  {
   "cell_type": "markdown",
   "metadata": {},
   "source": [
    "Both <b>union()</b> and <b>update()</b> will exclude any duplicate items"
   ]
  },
  {
   "cell_type": "markdown",
   "metadata": {},
   "source": [
    "## Question 4:\n",
    "Given a list of n-1 numbers ranging from 1 to n, your task is to find the missing number. There are no duplicates.<br/>\n",
    "Input Format: The first line contains n-1 numbers with each number separated by a space.<br/>\n",
    "Output Format: Print the missing number<br/>\n",
    "Example:\n",
    "Input:1 2 4 6 3 7 8<br/>\n",
    "Output:5<br/>\n",
    "Explanation: In the above list of numbers 5 is missing and hence 5 is the input<br/>"
   ]
  },
  {
   "cell_type": "code",
   "execution_count": 30,
   "metadata": {},
   "outputs": [
    {
     "name": "stdout",
     "output_type": "stream",
     "text": [
      "['8', '1', '3', '5', '2']\n",
      "[1, 2, 3, 5, 8]\n",
      "Missing numbers in list x: [4, 6, 7]\n"
     ]
    }
   ],
   "source": [
    "\n",
    "x = '8 1 3 5 2'\n",
    "\n",
    "def missing(x):\n",
    "    mlist = []\n",
    "    y = x.split()            #['8', '1', '3', '5', '2']\n",
    "    print(y)\n",
    "    y = [int(i) for i in y]  #converting each string element to int\n",
    "    y = sorted(y)            # sorting the list\n",
    "    print(y)\n",
    "    for i in range(y[0],y[-1]+1):  #after sorting take (1st) and (last number+1) as range \n",
    "        if i not in y:\n",
    "            mlist.append(i)\n",
    "    return mlist\n",
    "\n",
    "print('Missing numbers in list x:',missing(x))"
   ]
  },
  {
   "cell_type": "markdown",
   "metadata": {},
   "source": [
    "## Question 5:\n",
    "With a given list L, write a program to print this list L after removing all duplicate values with original order reserved.<br/>\n",
    "Example:<br/>\n",
    "If the input list is:\n",
    "12 24 35 24 88 120 155 88 120 155<br/>\n",
    "Then the output should be:\n",
    "12 24 35 88 120 155<br/>\n",
    "Explanation:\n",
    "Third, seventh and ninth element of the list L has been removed because it was already present.<br/>\n",
    "Input Format:\n",
    "In one line take the elements of the list L with each element separated by a space.<br/>\n",
    "Output Format:\n",
    "Print the elements of the modified list in one line with each element separated by a space.<br/>\n",
    "Example:<br/>\n",
    "Input: 12 24 35 24<br/>\n",
    "Output:\n",
    "12 24 35"
   ]
  },
  {
   "cell_type": "code",
   "execution_count": 36,
   "metadata": {},
   "outputs": [
    {
     "name": "stdout",
     "output_type": "stream",
     "text": [
      "[12, 12, 24, 24, 35, 35]\n",
      "[12, 24, 35]\n"
     ]
    }
   ],
   "source": [
    "list1 = '12 24 35 24 12 35'\n",
    "x = list1.split()\n",
    "x = [int(i) for i in x]\n",
    "x = sorted(x)\n",
    "print(x)\n",
    "final = []\n",
    "\n",
    "for a in x:\n",
    "    if a not in final:\n",
    "        final.append(a)\n",
    "\n",
    "print(final)"
   ]
  },
  {
   "cell_type": "code",
   "execution_count": null,
   "metadata": {},
   "outputs": [],
   "source": []
  }
 ],
 "metadata": {
  "kernelspec": {
   "display_name": "Python 3",
   "language": "python",
   "name": "python3"
  },
  "language_info": {
   "codemirror_mode": {
    "name": "ipython",
    "version": 3
   },
   "file_extension": ".py",
   "mimetype": "text/x-python",
   "name": "python",
   "nbconvert_exporter": "python",
   "pygments_lexer": "ipython3",
   "version": "3.7.6"
  },
  "toc": {
   "base_numbering": 1,
   "nav_menu": {},
   "number_sections": true,
   "sideBar": true,
   "skip_h1_title": false,
   "title_cell": "Table of Contents",
   "title_sidebar": "Contents",
   "toc_cell": false,
   "toc_position": {},
   "toc_section_display": true,
   "toc_window_display": false
  }
 },
 "nbformat": 4,
 "nbformat_minor": 4
}
